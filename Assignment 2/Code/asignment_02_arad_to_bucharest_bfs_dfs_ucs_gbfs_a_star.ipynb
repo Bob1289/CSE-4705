{
 "cells": [
  {
   "cell_type": "markdown",
   "id": "a07824ad",
   "metadata": {
    "deletable": false,
    "editable": false
   },
   "source": [
    "## CSE 4705: Assignment 02 - Arad to Bucharest - BFS, DFS, UCS, GBFS, A* \n"
   ]
  },
  {
   "cell_type": "markdown",
   "id": "f723f262",
   "metadata": {
    "deletable": false
   },
   "source": [
    "## Problem 1\n",
    "[100] Write a routine that solves the problem of finds a travel path of cities from from Arad to Bucharest in Romania, as discussed in class. Do this using each of the following approaches (points shown in brackets):\n",
    "\n",
    "1. [15] Breadth First Search (BFS)\n",
    "2. [10] Depth First Search (DFS)\n",
    "3. [25] Uniform Cost Search (UCS)\n",
    "4. [25] Greedy Best First Search (GBFS)\n",
    "5. [25] A*\n",
    "\n",
    "\n",
    "You will use the map from Lecture 03 - Informed Search which shows the major cities in Romania and the distances between them for those cities that are directly connected.  Also, you will use the straight-line-distances shown in the adjacent table for your heuristic function, $h(n)$ for GBFS and A*.  A screenshot of the relevant slide is given below.  Data structures that store this information, romania_map and sld_to_bucharest, have been provided so you can access and apply this data in your algorithm implementations.  Details of these data structures are given below.\n",
    "\n",
    "<img src=\"images/romania_cities.png\" width=\"800\" height=\"600\">\n",
    "\n",
    "### Output for Each Routine\n",
    "\n",
    "Each of your routines should return an output or set of outputs that clearly indicates the following:\n",
    "\n",
    "1. The sequence of cities from Arad to Bucharest.  (Make sure the cities, Arad and Bucharest are explicitly listed as the first and last cities in your output.)  One suggestion is to return this output in the form of a list.\n",
    "2. Cost to travel to each city from its predecessor.  \n",
    "3. Total cost for the path.  \n",
    "\n",
    "In the case of A* and Uniform Cost Search, your routines should return the *cheapest path*.  However, that will not necessarily be the case for BFS, DFS, or GBFS.  (Why not?)"
   ]
  },
  {
   "cell_type": "markdown",
   "id": "7780765b",
   "metadata": {
    "deletable": false,
    "editable": false
   },
   "source": [
    "### Romania Graph\n",
    "\n",
    "You will use the data structure stored in the romania_map, assigned below to implement the search across the various cities to find a path from Arad to Bucharest.\n",
    "\n",
    "Some details about romania_map:\n",
    "- A dictionary of dictionaries \n",
    "- The outer dictionary is as follows: each key is a city and the value for that city is a nested dictionary of cities to which the said city is directly connected.\n",
    "- The nested dictionary contains the cities to which the parent key is directly connected (keys) and the corresponding distances from the parent city to those respective cities (values).\n",
    "- For example, for the city Oradea, we have a key in the outer dictionary (Oradea), and the associated value is a dictionary containing the Zerind and Sibiu as keys, where for each of these the values are the distances from Oradea to these respective cities.\n",
    "\n"
   ]
  },
  {
   "cell_type": "code",
   "execution_count": 1,
   "id": "9c5f305a",
   "metadata": {
    "deletable": false,
    "editable": false
   },
   "outputs": [],
   "source": [
    "\n",
    "romania_map = {\n",
    "    'Oradea':{'Zerind':71, 'Sibiu':151},\n",
    "    'Zerind':{'Oradea':71, 'Arad':75},\n",
    "    'Arad':{'Zerind':75, 'Sibiu':140, 'Timisoara':118},\n",
    "    'Timisoara':{'Arad':118, 'Lugoj':111},\n",
    "    'Lugoj':{'Timisoara':111, 'Mehadia':70},\n",
    "    'Mehadia':{'Lugoj':70, 'Dobreta':75},\n",
    "    'Dobreta':{'Mehadia':75, 'Craiova':120},\n",
    "    'Sibiu':{'Oradea':151, 'Fagaras':99, 'Rimnicu Vilcea':80, 'Arad':140},\n",
    "    'Rimnicu Vilcea':{'Sibiu':80, 'Pitesti':97, 'Craiova':146},\n",
    "    'Craiova':{'Rimnicu Vilcea':146, 'Pitesti':138, 'Dobreta':120},\n",
    "    'Fagaras':{'Sibiu':99, 'Bucharest':211},\n",
    "    'Pitesti':{'Rimnicu Vilcea':97, 'Bucharest':101, 'Craiova':138},\n",
    "    'Neamt':{'Iasi':87},\n",
    "    'Giurgiu':{'Bucharest':90},\n",
    "    'Bucharest':{'Pitesti':101, 'Fagaras':211, 'Urziceni':85, 'Giurgiu':90},\n",
    "    'Iasi':{'Neamt':87, 'Vaslui':92},\n",
    "    'Urziceni':{'Bucharest':85, 'Vaslui':142, 'Hirsova':98},\n",
    "    'Vaslui':{'Iasi':92, 'Urziceni':142},\n",
    "    'Hirsova':{'Urziceni':98, 'Eforie':86},\n",
    "    'Eforie':{'Hirsova':86}\n",
    "}"
   ]
  },
  {
   "cell_type": "markdown",
   "id": "0042909e",
   "metadata": {
    "deletable": false,
    "editable": false
   },
   "source": [
    "### Heuristic Function Data - Straight-Line Distances to Bucharest\n",
    "\n",
    "You will use the dictionary below as your resource for retrieving straight-line distance data for implementing the GBFS and A* algorithms."
   ]
  },
  {
   "cell_type": "code",
   "execution_count": 2,
   "id": "aaf76cda",
   "metadata": {
    "deletable": false,
    "editable": false
   },
   "outputs": [],
   "source": [
    "sld_to_Bucharest = {'Arad':366,\n",
    "                    'Bucharest':0,\n",
    "                    'Craiova':160,\n",
    "                    'Dobreta':242,\n",
    "                    'Eforie':161,\n",
    "                    'Fagaras':176,\n",
    "                    'Giurgiu':77,\n",
    "                    'Hirsova':151,\n",
    "                    'Iasi':226,\n",
    "                    'Lugoj':244,\n",
    "                    'Mehadia':241,\n",
    "                    'Neamt':234,\n",
    "                    'Oradea':380,\n",
    "                    'Pitesti':100,\n",
    "                    'Rimnicu Vilcea':193,\n",
    "                    'Sibiu':253,\n",
    "                    'Timisoara':329,\n",
    "                    'Urziceni':80,\n",
    "                    'Vaslui':199,\n",
    "                    'Zerind':374\n",
    "                   }"
   ]
  },
  {
   "cell_type": "markdown",
   "id": "49c8d585",
   "metadata": {
    "deletable": false,
    "editable": false
   },
   "source": [
    "### 1. BFS Implementation\n",
    "\n",
    "Provide your implementation of the BFS Search below."
   ]
  },
  {
   "cell_type": "code",
   "execution_count": 141,
   "id": "dc105d97",
   "metadata": {},
   "outputs": [],
   "source": [
    "def generalized_bfs_dfs(graph, start, end, mode):\n",
    "    visited = {}\n",
    "    frontier = [[start]]\n",
    "    while frontier:\n",
    "        path = frontier.pop(0)\n",
    "        node = path[-1]\n",
    "        if node not in visited:\n",
    "            neighbours = graph[node]\n",
    "            for neighbour in neighbours:\n",
    "                new_path = list(path)\n",
    "                new_path.append(neighbour)\n",
    "                if mode == 'bfs':\n",
    "                    frontier.append(new_path)\n",
    "                else:\n",
    "                    frontier.insert(0, new_path)\n",
    "                if neighbour == end:\n",
    "                    return new_path\n",
    "            visited[node] = True\n",
    "    return None\n",
    "\n",
    "def get_path_cost(graph, path):\n",
    "    path_cost = []\n",
    "    for i in range(len(path)-1):\n",
    "        path_cost.append((path[i], path[i+1], graph[path[i]][path[i+1]]))\n",
    "    return path_cost\n",
    "\n",
    "def total_cost(graph, path):\n",
    "    total_cost = 0\n",
    "    for i in range(len(path)-1):\n",
    "        total_cost += graph[path[i]][path[i+1]]\n",
    "    return total_cost"
   ]
  },
  {
   "cell_type": "code",
   "execution_count": 125,
   "id": "d93bf6fd",
   "metadata": {},
   "outputs": [
    {
     "name": "stdout",
     "output_type": "stream",
     "text": [
      "BFS:  ['Arad', 'Sibiu', 'Fagaras', 'Bucharest']\n"
     ]
    }
   ],
   "source": [
    "print(\"BFS: \", generalized_bfs_dfs(romania_map, 'Arad', 'Bucharest', 'bfs'))"
   ]
  },
  {
   "cell_type": "code",
   "execution_count": 142,
   "id": "b8b8b86e",
   "metadata": {},
   "outputs": [
    {
     "name": "stdout",
     "output_type": "stream",
     "text": [
      "Cost of BFS:  [('Arad', 'Sibiu', 140), ('Sibiu', 'Fagaras', 99), ('Fagaras', 'Bucharest', 211)]\n"
     ]
    }
   ],
   "source": [
    "print(\"Cost of BFS: \", get_path_cost(romania_map, generalized_bfs_dfs(romania_map, 'Arad', 'Bucharest', 'bfs')))"
   ]
  },
  {
   "cell_type": "code",
   "execution_count": 134,
   "id": "dd7c67e9",
   "metadata": {},
   "outputs": [
    {
     "name": "stdout",
     "output_type": "stream",
     "text": [
      "Total cost:  450\n"
     ]
    }
   ],
   "source": [
    "print(\"Total cost: \", total_cost(romania_map, generalized_bfs_dfs(romania_map, 'Arad', 'Bucharest', 'bfs')))"
   ]
  },
  {
   "cell_type": "code",
   "execution_count": null,
   "id": "1de09459",
   "metadata": {},
   "outputs": [],
   "source": []
  },
  {
   "cell_type": "markdown",
   "id": "e27de0bb",
   "metadata": {
    "deletable": false,
    "editable": false
   },
   "source": [
    "### 2.  DFS Implementation\n",
    "\n",
    "Provide your implementation of the DFS Search below."
   ]
  },
  {
   "cell_type": "code",
   "execution_count": 45,
   "id": "c491c5ac",
   "metadata": {},
   "outputs": [
    {
     "name": "stdout",
     "output_type": "stream",
     "text": [
      "DFS:  ['Arad', 'Timisoara', 'Lugoj', 'Mehadia', 'Dobreta', 'Craiova', 'Pitesti', 'Bucharest']\n"
     ]
    }
   ],
   "source": [
    "print(\"DFS: \", generalized_bfs_dfs(romania_map, 'Arad', 'Bucharest', 'dfs'))"
   ]
  },
  {
   "cell_type": "code",
   "execution_count": 143,
   "id": "72d33bd7",
   "metadata": {},
   "outputs": [
    {
     "name": "stdout",
     "output_type": "stream",
     "text": [
      "Cost of DFS:  [('Arad', 'Timisoara', 118), ('Timisoara', 'Lugoj', 111), ('Lugoj', 'Mehadia', 70), ('Mehadia', 'Dobreta', 75), ('Dobreta', 'Craiova', 120), ('Craiova', 'Pitesti', 138), ('Pitesti', 'Bucharest', 101)]\n"
     ]
    }
   ],
   "source": [
    "print(\"Cost of DFS: \", get_path_cost(romania_map, generalized_bfs_dfs(romania_map, 'Arad', 'Bucharest', 'dfs')))"
   ]
  },
  {
   "cell_type": "code",
   "execution_count": 135,
   "id": "f9c9852d",
   "metadata": {},
   "outputs": [
    {
     "name": "stdout",
     "output_type": "stream",
     "text": [
      "Total cost:  733\n"
     ]
    }
   ],
   "source": [
    "print(\"Total cost: \", total_cost(romania_map, generalized_bfs_dfs(romania_map, 'Arad', 'Bucharest', 'dfs')))"
   ]
  },
  {
   "cell_type": "code",
   "execution_count": null,
   "id": "875b7211",
   "metadata": {},
   "outputs": [],
   "source": []
  },
  {
   "cell_type": "code",
   "execution_count": null,
   "id": "e1bcd227",
   "metadata": {},
   "outputs": [],
   "source": []
  },
  {
   "cell_type": "markdown",
   "id": "509df9d1",
   "metadata": {
    "deletable": false,
    "editable": false
   },
   "source": [
    "### 3. UCS Implementation\n",
    "\n",
    "Provide your implementation of the UCS Search below."
   ]
  },
  {
   "cell_type": "code",
   "execution_count": 122,
   "id": "4380f2b5",
   "metadata": {},
   "outputs": [],
   "source": [
    "\n",
    "from queue import PriorityQueue\n",
    "\n",
    "def ucs_gbfs_a_star(graph, start, end, mode, sld=None):\n",
    "    start = (0, start, [])\n",
    "    frontier = PriorityQueue()\n",
    "    frontier.put(start)\n",
    "    explored = set()\n",
    "    while frontier:\n",
    "        cost, node, path = frontier.get()\n",
    "        if node not in explored:\n",
    "            explored.add(node)\n",
    "            path = path + [node]\n",
    "            if node == end:\n",
    "                return path\n",
    "            for neighbour in graph[node]:\n",
    "                if neighbour not in explored:\n",
    "                    if mode == 'ucs':\n",
    "                        total_cost = cost + graph[node][neighbour]\n",
    "                    elif mode == 'gbfs':\n",
    "                        total_cost = sld[neighbour]\n",
    "                    else:\n",
    "                        total_cost = sld[neighbour] + graph[node][neighbour]\n",
    "                    frontier.put((total_cost, neighbour, path))\n",
    "    return None\n",
    "    \n"
   ]
  },
  {
   "cell_type": "code",
   "execution_count": 131,
   "id": "4cac2244",
   "metadata": {},
   "outputs": [
    {
     "name": "stdout",
     "output_type": "stream",
     "text": [
      "UCS:  ['Arad', 'Sibiu', 'Rimnicu Vilcea', 'Pitesti', 'Bucharest']\n"
     ]
    }
   ],
   "source": [
    "print(\"UCS: \", ucs_gbfs_a_star(romania_map, 'Arad', 'Bucharest', 'ucs'))"
   ]
  },
  {
   "cell_type": "code",
   "execution_count": 144,
   "id": "0167a7f6",
   "metadata": {},
   "outputs": [
    {
     "name": "stdout",
     "output_type": "stream",
     "text": [
      "Cost of UCS:  [('Arad', 'Sibiu', 140), ('Sibiu', 'Rimnicu Vilcea', 80), ('Rimnicu Vilcea', 'Pitesti', 97), ('Pitesti', 'Bucharest', 101)]\n"
     ]
    }
   ],
   "source": [
    "print(\"Cost of UCS: \", get_path_cost(romania_map, ucs_gbfs_a_star(romania_map, 'Arad', 'Bucharest', 'ucs')))"
   ]
  },
  {
   "cell_type": "code",
   "execution_count": 136,
   "id": "9530b9cf",
   "metadata": {},
   "outputs": [
    {
     "name": "stdout",
     "output_type": "stream",
     "text": [
      "Total cost:  418\n"
     ]
    }
   ],
   "source": [
    "print(\"Total cost: \", total_cost(romania_map, ucs_gbfs_a_star(romania_map, 'Arad', 'Bucharest', 'ucs')))"
   ]
  },
  {
   "cell_type": "code",
   "execution_count": null,
   "id": "62321ca5",
   "metadata": {},
   "outputs": [],
   "source": []
  },
  {
   "cell_type": "markdown",
   "id": "c8114e78",
   "metadata": {
    "deletable": false,
    "editable": false
   },
   "source": [
    "### 4. GBFS Implementation\n",
    "\n",
    "Provide your implementation of the GBFS Search below."
   ]
  },
  {
   "cell_type": "code",
   "execution_count": 132,
   "id": "27db6720",
   "metadata": {},
   "outputs": [
    {
     "name": "stdout",
     "output_type": "stream",
     "text": [
      "GBFS:  ['Arad', 'Sibiu', 'Fagaras', 'Bucharest']\n"
     ]
    }
   ],
   "source": [
    "print(\"GBFS: \", ucs_gbfs_a_star(romania_map, 'Arad', 'Bucharest', 'gbfs', sld_to_Bucharest))"
   ]
  },
  {
   "cell_type": "code",
   "execution_count": 145,
   "id": "6b1ec361",
   "metadata": {},
   "outputs": [
    {
     "name": "stdout",
     "output_type": "stream",
     "text": [
      "Cost of GBFS:  [('Arad', 'Sibiu', 140), ('Sibiu', 'Fagaras', 99), ('Fagaras', 'Bucharest', 211)]\n"
     ]
    }
   ],
   "source": [
    "print(\"Cost of GBFS: \", get_path_cost(romania_map, ucs_gbfs_a_star(romania_map, 'Arad', 'Bucharest', 'gbfs', sld_to_Bucharest)))"
   ]
  },
  {
   "cell_type": "code",
   "execution_count": 137,
   "id": "4df85129",
   "metadata": {},
   "outputs": [
    {
     "name": "stdout",
     "output_type": "stream",
     "text": [
      "Total cost:  450\n"
     ]
    }
   ],
   "source": [
    "print(\"Total cost: \", total_cost(romania_map, ucs_gbfs_a_star(romania_map, 'Arad', 'Bucharest', 'gbfs', sld_to_Bucharest)))"
   ]
  },
  {
   "cell_type": "code",
   "execution_count": null,
   "id": "210a4fc0",
   "metadata": {},
   "outputs": [],
   "source": []
  },
  {
   "cell_type": "code",
   "execution_count": null,
   "id": "56c78f07",
   "metadata": {},
   "outputs": [],
   "source": []
  },
  {
   "cell_type": "markdown",
   "id": "d02b50ea",
   "metadata": {
    "deletable": false,
    "editable": false
   },
   "source": [
    "### 5. A* Implementation\n",
    "\n",
    "Provide your implementation of the A* Algorithm below."
   ]
  },
  {
   "cell_type": "code",
   "execution_count": 133,
   "id": "600235f0",
   "metadata": {},
   "outputs": [
    {
     "name": "stdout",
     "output_type": "stream",
     "text": [
      "A*:  ['Arad', 'Sibiu', 'Rimnicu Vilcea', 'Pitesti', 'Bucharest']\n"
     ]
    }
   ],
   "source": [
    "print(\"A*: \", ucs_gbfs_a_star(romania_map, 'Arad', 'Bucharest', 'a_star', sld_to_Bucharest))"
   ]
  },
  {
   "cell_type": "code",
   "execution_count": 146,
   "id": "9741565f",
   "metadata": {},
   "outputs": [
    {
     "name": "stdout",
     "output_type": "stream",
     "text": [
      "Cost of A*:  [('Arad', 'Sibiu', 140), ('Sibiu', 'Rimnicu Vilcea', 80), ('Rimnicu Vilcea', 'Pitesti', 97), ('Pitesti', 'Bucharest', 101)]\n"
     ]
    }
   ],
   "source": [
    "print(\"Cost of A*: \", get_path_cost(romania_map, ucs_gbfs_a_star(romania_map, 'Arad', 'Bucharest', 'a_star', sld_to_Bucharest)))"
   ]
  },
  {
   "cell_type": "code",
   "execution_count": 139,
   "id": "c96659f6",
   "metadata": {},
   "outputs": [
    {
     "name": "stdout",
     "output_type": "stream",
     "text": [
      "Total cost:  418\n"
     ]
    }
   ],
   "source": [
    "print(\"Total cost: \", total_cost(romania_map, ucs_gbfs_a_star(romania_map, 'Arad', 'Bucharest', 'a_star', sld_to_Bucharest)))"
   ]
  },
  {
   "cell_type": "code",
   "execution_count": null,
   "id": "29e80d27",
   "metadata": {},
   "outputs": [],
   "source": []
  },
  {
   "cell_type": "code",
   "execution_count": null,
   "id": "14dad1bc",
   "metadata": {},
   "outputs": [],
   "source": []
  }
 ],
 "metadata": {
  "kernelspec": {
   "display_name": "Python 3 (ipykernel)",
   "language": "python",
   "name": "python3"
  },
  "language_info": {
   "codemirror_mode": {
    "name": "ipython",
    "version": 3
   },
   "file_extension": ".py",
   "mimetype": "text/x-python",
   "name": "python",
   "nbconvert_exporter": "python",
   "pygments_lexer": "ipython3",
   "version": "3.10.8"
  }
 },
 "nbformat": 4,
 "nbformat_minor": 5
}
